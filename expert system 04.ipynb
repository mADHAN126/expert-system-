{
 "cells": [
  {
   "cell_type": "code",
   "execution_count": 1,
   "id": "3b4f11ae",
   "metadata": {},
   "outputs": [
    {
     "name": "stdout",
     "output_type": "stream",
     "text": [
      "Do you have a fever (yes or no)? yes\n",
      "Do you have a headache (yes or no)? no\n",
      "Do you have a runny nose (yes or no)? no\n",
      "You may have a fever.\n"
     ]
    }
   ],
   "source": [
    "# Collect information from the patient\n",
    "symptom1 = input(\"Do you have a fever (yes or no)? \")\n",
    "symptom2 = input(\"Do you have a headache (yes or no)? \")\n",
    "symptom3 = input(\"Do you have a runny nose (yes or no)? \")\n",
    "\n",
    "# Use the if statement to diagnose the patient's illness based on the symptoms\n",
    "if symptom1 == \"yes\" and symptom2 == \"yes\" and symptom3 == \"yes\":\n",
    "    print(\"You may have the flu.\")\n",
    "elif symptom1 == \"yes\" and symptom2 == \"yes\":\n",
    "    print(\"You may have a cold.\")\n",
    "elif symptom1 == \"yes\":\n",
    "    print(\"You may have a fever.\")\n",
    "else:\n",
    "    print(\"Your symptoms do not indicate a common illness.\")\n"
   ]
  },
  {
   "cell_type": "code",
   "execution_count": null,
   "id": "d73df859",
   "metadata": {},
   "outputs": [],
   "source": []
  }
 ],
 "metadata": {
  "kernelspec": {
   "display_name": "Python 3 (ipykernel)",
   "language": "python",
   "name": "python3"
  },
  "language_info": {
   "codemirror_mode": {
    "name": "ipython",
    "version": 3
   },
   "file_extension": ".py",
   "mimetype": "text/x-python",
   "name": "python",
   "nbconvert_exporter": "python",
   "pygments_lexer": "ipython3",
   "version": "3.9.13"
  }
 },
 "nbformat": 4,
 "nbformat_minor": 5
}
